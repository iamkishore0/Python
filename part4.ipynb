{
  "nbformat": 4,
  "nbformat_minor": 0,
  "metadata": {
    "colab": {
      "provenance": [],
      "authorship_tag": "ABX9TyNbUy3oFzSe7Pvn2du7HdYJ",
      "include_colab_link": true
    },
    "kernelspec": {
      "name": "python3",
      "display_name": "Python 3"
    },
    "language_info": {
      "name": "python"
    }
  },
  "cells": [
    {
      "cell_type": "markdown",
      "metadata": {
        "id": "view-in-github",
        "colab_type": "text"
      },
      "source": [
        "<a href=\"https://colab.research.google.com/github/iamkishore0/Python/blob/main/part4.ipynb\" target=\"_parent\"><img src=\"https://colab.research.google.com/assets/colab-badge.svg\" alt=\"Open In Colab\"/></a>"
      ]
    },
    {
      "cell_type": "markdown",
      "source": [
        "#List\n",
        "list consists of all the data types such as integer, string, float and boolean, List is defined in the format of square brackets [ ] "
      ],
      "metadata": {
        "id": "yVfKGL27Gocl"
      }
    },
    {
      "cell_type": "code",
      "source": [
        "mylist = [22, 67.9, True, \"India\"]\n",
        "type(mylist)"
      ],
      "metadata": {
        "colab": {
          "base_uri": "https://localhost:8080/"
        },
        "id": "Tr-BvMf7HA5E",
        "outputId": "8e309527-af59-439a-c944-26cd1540735e"
      },
      "execution_count": 14,
      "outputs": [
        {
          "output_type": "execute_result",
          "data": {
            "text/plain": [
              "list"
            ]
          },
          "metadata": {},
          "execution_count": 14
        }
      ]
    },
    {
      "cell_type": "code",
      "source": [
        "print(mylist)"
      ],
      "metadata": {
        "colab": {
          "base_uri": "https://localhost:8080/"
        },
        "id": "cB5LrIZQHIml",
        "outputId": "a8894ac7-8e6a-4c9b-94a5-4a4d87fdb9c1"
      },
      "execution_count": 15,
      "outputs": [
        {
          "output_type": "stream",
          "name": "stdout",
          "text": [
            "[22, 67.9, True, 'India']\n"
          ]
        }
      ]
    },
    {
      "cell_type": "code",
      "source": [
        "#Slicing Operations with list\n",
        "print(mylist[0])\n",
        "print(mylist[2])\n",
        "print(mylist[::-1])\n",
        "print(len(mylist))"
      ],
      "metadata": {
        "colab": {
          "base_uri": "https://localhost:8080/"
        },
        "id": "OmCiZBJ4HOnN",
        "outputId": "c5aa19b1-ebf1-4950-81bb-8bd7cc14ac53"
      },
      "execution_count": 16,
      "outputs": [
        {
          "output_type": "stream",
          "name": "stdout",
          "text": [
            "22\n",
            "True\n",
            "['India', True, 67.9, 22]\n",
            "4\n"
          ]
        }
      ]
    },
    {
      "cell_type": "code",
      "source": [
        "#Append function \n",
        "mylist.append('World')\n",
        "print(mylist)"
      ],
      "metadata": {
        "colab": {
          "base_uri": "https://localhost:8080/"
        },
        "id": "MQ4Y-GqBHdtV",
        "outputId": "818bf6e4-42ba-402c-f562-0c2caacb5542"
      },
      "execution_count": 17,
      "outputs": [
        {
          "output_type": "stream",
          "name": "stdout",
          "text": [
            "[22, 67.9, True, 'India', 'World']\n"
          ]
        }
      ]
    },
    {
      "cell_type": "code",
      "source": [
        "#Pop function.\n",
        "print(mylist) \n",
        "mylist.pop()\n",
        "print(mylist)\n",
        "mylist.pop(1)\n",
        "print(mylist)"
      ],
      "metadata": {
        "colab": {
          "base_uri": "https://localhost:8080/"
        },
        "id": "ypxReR5EHoHV",
        "outputId": "942e8bc9-4c09-4aec-9580-765bf36c92fa"
      },
      "execution_count": 18,
      "outputs": [
        {
          "output_type": "stream",
          "name": "stdout",
          "text": [
            "[22, 67.9, True, 'India', 'World']\n",
            "[22, 67.9, True, 'India']\n",
            "[22, True, 'India']\n"
          ]
        }
      ]
    },
    {
      "cell_type": "code",
      "source": [
        "#Remove function\n",
        "print(mylist)\n",
        "mylist.remove(\"India\")\n",
        "print(mylist)"
      ],
      "metadata": {
        "colab": {
          "base_uri": "https://localhost:8080/"
        },
        "id": "qH4nsu2mHvo1",
        "outputId": "5c224f17-56b5-45e6-c808-8c461509fbf4"
      },
      "execution_count": 19,
      "outputs": [
        {
          "output_type": "stream",
          "name": "stdout",
          "text": [
            "[22, True, 'India']\n",
            "[22, True]\n"
          ]
        }
      ]
    },
    {
      "cell_type": "code",
      "source": [
        "#Insert function\n",
        "print(mylist)\n",
        "mylist.insert(1, \"India\")\n",
        "print(mylist)"
      ],
      "metadata": {
        "colab": {
          "base_uri": "https://localhost:8080/"
        },
        "id": "v-_Mjx7mIEQF",
        "outputId": "157261d4-8a6b-42cf-83d2-6c518c705eaf"
      },
      "execution_count": 20,
      "outputs": [
        {
          "output_type": "stream",
          "name": "stdout",
          "text": [
            "[22, True]\n",
            "[22, 'India', True]\n"
          ]
        }
      ]
    },
    {
      "cell_type": "code",
      "source": [
        "#Reverse function\n",
        "mylist.reverse()\n",
        "print(mylist)"
      ],
      "metadata": {
        "colab": {
          "base_uri": "https://localhost:8080/"
        },
        "id": "uxQdkxgaIOBV",
        "outputId": "fb977729-4052-4dad-fa74-a20bef5805f6"
      },
      "execution_count": 25,
      "outputs": [
        {
          "output_type": "stream",
          "name": "stdout",
          "text": [
            "[True, 'India', 22]\n"
          ]
        }
      ]
    },
    {
      "cell_type": "code",
      "source": [
        "#Sorting\n",
        "int_list = [5, 66, 77, 2, 9, 0, 24, 346, 12, 90, 9] \n",
        "int_list.sort()\n",
        "print(int_list)"
      ],
      "metadata": {
        "colab": {
          "base_uri": "https://localhost:8080/"
        },
        "id": "vKzNtNFgIert",
        "outputId": "283f943c-8542-4e82-fa23-4db6075e174d"
      },
      "execution_count": 27,
      "outputs": [
        {
          "output_type": "stream",
          "name": "stdout",
          "text": [
            "[0, 2, 5, 9, 9, 12, 24, 66, 77, 90, 346]\n"
          ]
        }
      ]
    },
    {
      "cell_type": "code",
      "source": [
        "#Looping through lists\n",
        "my_list = [1, 2, 5.5, 'Hello']\n",
        "for i in my_list:\n",
        "  print(i)"
      ],
      "metadata": {
        "colab": {
          "base_uri": "https://localhost:8080/"
        },
        "id": "5dFKPKyGI6PE",
        "outputId": "1c4a8eed-aa33-4392-8814-c8975b159727"
      },
      "execution_count": 28,
      "outputs": [
        {
          "output_type": "stream",
          "name": "stdout",
          "text": [
            "1\n",
            "2\n",
            "5.5\n",
            "Hello\n"
          ]
        }
      ]
    }
  ]
}