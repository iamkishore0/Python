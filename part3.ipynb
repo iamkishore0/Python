{
  "nbformat": 4,
  "nbformat_minor": 0,
  "metadata": {
    "colab": {
      "provenance": [],
      "authorship_tag": "ABX9TyPZnu+b73LCdM9HqrSsAmer",
      "include_colab_link": true
    },
    "kernelspec": {
      "name": "python3",
      "display_name": "Python 3"
    },
    "language_info": {
      "name": "python"
    }
  },
  "cells": [
    {
      "cell_type": "markdown",
      "metadata": {
        "id": "view-in-github",
        "colab_type": "text"
      },
      "source": [
        "<a href=\"https://colab.research.google.com/github/iamkishore0/Python/blob/main/part3.ipynb\" target=\"_parent\"><img src=\"https://colab.research.google.com/assets/colab-badge.svg\" alt=\"Open In Colab\"/></a>"
      ]
    },
    {
      "cell_type": "markdown",
      "source": [
        "#Input Method"
      ],
      "metadata": {
        "id": "OBU_stUvDyn5"
      }
    },
    {
      "cell_type": "code",
      "source": [
        "#Taking input from user\n",
        "name = input()"
      ],
      "metadata": {
        "colab": {
          "base_uri": "https://localhost:8080/"
        },
        "id": "wv-fMcqSD1Q5",
        "outputId": "ad15230e-d58e-40db-c7fe-51201d56028e"
      },
      "execution_count": null,
      "outputs": [
        {
          "name": "stdout",
          "output_type": "stream",
          "text": [
            "kishore\n"
          ]
        }
      ]
    },
    {
      "cell_type": "code",
      "source": [
        "#Promt a message to user\n",
        "name = input('please enter your name: ')\n",
        "print(name)"
      ],
      "metadata": {
        "colab": {
          "base_uri": "https://localhost:8080/"
        },
        "id": "unehvk2bEKNp",
        "outputId": "c09d73dd-439f-4e6f-d6a9-8b56c120d379"
      },
      "execution_count": null,
      "outputs": [
        {
          "output_type": "stream",
          "name": "stdout",
          "text": [
            "please enter your name: kishore\n",
            "kishore\n"
          ]
        }
      ]
    },
    {
      "cell_type": "code",
      "source": [
        "#By default input method consider input in string format\n",
        "integer = input('please enter number: ')\n",
        "print(type(integer))"
      ],
      "metadata": {
        "colab": {
          "base_uri": "https://localhost:8080/"
        },
        "id": "sTCQ4JGtEUmh",
        "outputId": "9a8303d5-0b3a-4f16-efb6-bba503bf9122"
      },
      "execution_count": null,
      "outputs": [
        {
          "output_type": "stream",
          "name": "stdout",
          "text": [
            "please enter number: 236\n",
            "<class 'str'>\n"
          ]
        }
      ]
    },
    {
      "cell_type": "code",
      "source": [
        "#Declaring input type as integer and it only accepts integers\n",
        "integer = int(input('please enter number: '))\n",
        "print(type(integer))"
      ],
      "metadata": {
        "colab": {
          "base_uri": "https://localhost:8080/"
        },
        "id": "yWHeeFo7FHSR",
        "outputId": "484eb880-598e-41ad-8ae2-11b99dde3b86"
      },
      "execution_count": null,
      "outputs": [
        {
          "output_type": "stream",
          "name": "stdout",
          "text": [
            "please enter number: 4566\n",
            "<class 'int'>\n"
          ]
        }
      ]
    },
    {
      "cell_type": "markdown",
      "source": [
        "#Loops"
      ],
      "metadata": {
        "id": "M0oynpmEFwKy"
      }
    },
    {
      "cell_type": "markdown",
      "source": [
        "While loop"
      ],
      "metadata": {
        "id": "LJK7KUcEF-Tq"
      }
    },
    {
      "cell_type": "code",
      "source": [
        "#While loop\n",
        "i = 0\n",
        "while i<7:   #Making the condition true\n",
        "  print('this is a while loop')\n",
        "  i = i+1    #try i+2, i+3, i+4 "
      ],
      "metadata": {
        "colab": {
          "base_uri": "https://localhost:8080/"
        },
        "id": "LIdrEfLwFzqj",
        "outputId": "a61c436e-2801-492a-bf9d-5f6c0419f679"
      },
      "execution_count": null,
      "outputs": [
        {
          "output_type": "stream",
          "name": "stdout",
          "text": [
            "this is a while loop\n",
            "this is a while loop\n",
            "this is a while loop\n",
            "this is a while loop\n",
            "this is a while loop\n",
            "this is a while loop\n",
            "this is a while loop\n"
          ]
        }
      ]
    },
    {
      "cell_type": "code",
      "source": [
        "# Python program that checks whether a given password is valid or not using a while loop: \n",
        "# Conditions: password must be minimum 8 characters, must contain 1 upper case letter, must contain 1 digit\n",
        "while True:\n",
        "    password = input(\"Enter your password: \")\n",
        "\n",
        "    # Password must be at least 8 characters long\n",
        "    if len(password) < 8:\n",
        "        print(\"Password must be at least 8 characters long.\")\n",
        "        continue\n",
        "\n",
        "    # Password must contain at least one uppercase letter\n",
        "    if not any(char.isupper() for char in password):\n",
        "        print(\"Password must contain at least one uppercase letter.\")\n",
        "        continue\n",
        "\n",
        "    # Password must contain at least one lowercase letter\n",
        "    if not any(char.islower() for char in password):\n",
        "        print(\"Password must contain at least one lowercase letter.\")\n",
        "        continue\n",
        "\n",
        "    # Password must contain at least one digit\n",
        "    if not any(char.isdigit() for char in password):\n",
        "        print(\"Password must contain at least one digit.\")\n",
        "        continue\n",
        "\n",
        "    # Password is valid\n",
        "    print(\"Password is valid.\")\n",
        "    break\n"
      ],
      "metadata": {
        "colab": {
          "base_uri": "https://localhost:8080/"
        },
        "id": "vE5IJ0F3G8Cq",
        "outputId": "c46d05b7-aa71-4f29-b318-65c280f271e5"
      },
      "execution_count": null,
      "outputs": [
        {
          "output_type": "stream",
          "name": "stdout",
          "text": [
            "Enter your password: abcdef123456\n",
            "Password must contain at least one uppercase letter.\n",
            "Enter your password: Abcdef123\n",
            "Password is valid.\n"
          ]
        }
      ]
    },
    {
      "cell_type": "markdown",
      "source": [
        "For loop"
      ],
      "metadata": {
        "id": "dUgl3ULeJN7R"
      }
    },
    {
      "cell_type": "code",
      "source": [
        "for i in range(9):\n",
        "  print('Hello world')"
      ],
      "metadata": {
        "colab": {
          "base_uri": "https://localhost:8080/"
        },
        "id": "pC0s9UQfJOkc",
        "outputId": "f01ca843-7417-4434-d9b4-5182de182c3d"
      },
      "execution_count": 1,
      "outputs": [
        {
          "output_type": "stream",
          "name": "stdout",
          "text": [
            "Hello world\n",
            "Hello world\n",
            "Hello world\n",
            "Hello world\n",
            "Hello world\n",
            "Hello world\n",
            "Hello world\n",
            "Hello world\n",
            "Hello world\n"
          ]
        }
      ]
    },
    {
      "cell_type": "code",
      "source": [
        "for i in range(9):\n",
        "  print('Hello world', i)"
      ],
      "metadata": {
        "colab": {
          "base_uri": "https://localhost:8080/"
        },
        "id": "OM5OHeGHJUfq",
        "outputId": "dc7219fc-8bcc-4ff5-e6da-8fbb94c8c1fd"
      },
      "execution_count": 2,
      "outputs": [
        {
          "output_type": "stream",
          "name": "stdout",
          "text": [
            "Hello world 0\n",
            "Hello world 1\n",
            "Hello world 2\n",
            "Hello world 3\n",
            "Hello world 4\n",
            "Hello world 5\n",
            "Hello world 6\n",
            "Hello world 7\n",
            "Hello world 8\n"
          ]
        }
      ]
    },
    {
      "cell_type": "code",
      "source": [
        "for i in \"abcdefghijklmn\":\n",
        "  print('Hello world')"
      ],
      "metadata": {
        "colab": {
          "base_uri": "https://localhost:8080/"
        },
        "id": "0NSfSQGpJZG5",
        "outputId": "0bf4c53e-5f2b-46b7-ee15-609585446e0b"
      },
      "execution_count": 3,
      "outputs": [
        {
          "output_type": "stream",
          "name": "stdout",
          "text": [
            "Hello world\n",
            "Hello world\n",
            "Hello world\n",
            "Hello world\n",
            "Hello world\n",
            "Hello world\n",
            "Hello world\n",
            "Hello world\n",
            "Hello world\n",
            "Hello world\n",
            "Hello world\n",
            "Hello world\n",
            "Hello world\n",
            "Hello world\n"
          ]
        }
      ]
    },
    {
      "cell_type": "code",
      "source": [
        "for i in \"abcdefghijklmn\":\n",
        "    print('Hello world', i)"
      ],
      "metadata": {
        "colab": {
          "base_uri": "https://localhost:8080/"
        },
        "id": "VkXAa6wqJfLg",
        "outputId": "85a40469-2d0a-4754-946e-ce44a6ececd3"
      },
      "execution_count": 4,
      "outputs": [
        {
          "output_type": "stream",
          "name": "stdout",
          "text": [
            "Hello world a\n",
            "Hello world b\n",
            "Hello world c\n",
            "Hello world d\n",
            "Hello world e\n",
            "Hello world f\n",
            "Hello world g\n",
            "Hello world h\n",
            "Hello world i\n",
            "Hello world j\n",
            "Hello world k\n",
            "Hello world l\n",
            "Hello world m\n",
            "Hello world n\n"
          ]
        }
      ]
    },
    {
      "cell_type": "code",
      "source": [
        "# Python for loop that iterates over a string and counts the number of occurrences of a specific character:\n",
        "\n",
        "sentence = \"The quick brown fox jumps over the lazy dog.\"\n",
        "char_to_count = \"o\"\n",
        "count = 0\n",
        "\n",
        "for char in sentence:\n",
        "    if char == char_to_count:\n",
        "        count += 1\n",
        "\n",
        "print(\"The character '{}' appears {} times in the sentence.\".format(char_to_count, count))\n"
      ],
      "metadata": {
        "colab": {
          "base_uri": "https://localhost:8080/"
        },
        "id": "DL5isFA8F4Oe",
        "outputId": "9c3e89d1-9ad0-49f0-a972-c5b3c9e4a477"
      },
      "execution_count": 5,
      "outputs": [
        {
          "output_type": "stream",
          "name": "stdout",
          "text": [
            "The character 'o' appears 4 times in the sentence.\n"
          ]
        }
      ]
    }
  ]
}