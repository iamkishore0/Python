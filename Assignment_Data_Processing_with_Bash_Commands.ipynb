{
  "nbformat": 4,
  "nbformat_minor": 0,
  "metadata": {
    "colab": {
      "provenance": [],
      "include_colab_link": true
    },
    "kernelspec": {
      "name": "python3",
      "display_name": "Python 3"
    },
    "language_info": {
      "name": "python"
    }
  },
  "cells": [
    {
      "cell_type": "markdown",
      "metadata": {
        "id": "view-in-github",
        "colab_type": "text"
      },
      "source": [
        "<a href=\"https://colab.research.google.com/github/iamkishore0/Python/blob/main/Assignment_Data_Processing_with_Bash_Commands.ipynb\" target=\"_parent\"><img src=\"https://colab.research.google.com/assets/colab-badge.svg\" alt=\"Open In Colab\"/></a>"
      ]
    },
    {
      "cell_type": "markdown",
      "source": [
        "#Assignment: Data Processing with Bash Commands\n"
      ],
      "metadata": {
        "id": "L15knShgumN7"
      }
    },
    {
      "cell_type": "markdown",
      "source": [
        "In this assignment, you will be working with UNIX command-line tools to manipulate a dataset. You will be using a Google Colab notebook for this assignment.\n",
        "\n",
        "\n",
        "> **Instructions**\n",
        "\n",
        "1.   Create a new directory called \"data\" in your home directory.\n",
        "2.   Use the \"wget\" command to download the following dataset from a URL: https://archive.ics.uci.edu/ml/machine-learning-databases/iris/iris.data\n",
        "3. Rename the dataset file and move it into the specific directory.\n",
        "4. Use the \"awk\" command to print only the first column of the dataset file (the sepal length).\n",
        "5. Use the \"grep\" command to filter the dataset file to only include rows where the species is \"versicolor\".\n",
        "6. Use the \"sort\" command to sort the filtered dataset by the sepal length in descending order.\n",
        "7. Use the \"cut\" command to print only the first three columns of the sorted dataset.\n",
        "8. Use the \"sed\" command to replace the species name \"versicolor\" with \"Iris-versicolor\" in the filtered dataset.\n",
        "9. Use the \"head\" command to print the first 10 lines of the final dataset.\n",
        "10. Use the \"tar\" command to compress the \"data\" directory into a tarball called \"data.tar.gz\".\n",
        "11. Move the tarball into a new directory called \"backup\" in your home directory.\n",
        "12. Use the \"find\" command to search for all files in the \"backup\" directory that have been modified in the last 7 days.\n",
        "13. Use the \"diff\" command to compare the final dataset file in the \"data\" directory with the same file in the \"backup\" directory.\n",
        "14. Use the \"cmp\" command to compare the compressed tarball in the \"backup\" directory with the original \"data\" directory to ensure they are identical.\n",
        "15. Write a Bash script that automates all of the above steps and saves the final dataset file in a new file called \"final_dataset.csv\".\n",
        "\n",
        "You may need some aditional actions to be taken druing the operation like unziping a file etc. Please take the necessary actions if it is needed in your aproach.\n",
        "\n",
        "**Note**:Please, first copy this notebook into your drive and after that start working on the notebook you copied. After completing the notebook share and upload as stated in Canvas.\n",
        "\n",
        "Good luck!\n"
      ],
      "metadata": {
        "id": "rV4P4ySmu184"
      }
    },
    {
      "cell_type": "markdown",
      "source": [
        "#Step 1: Create a new directory called \"data\" in your home directory (6 Points)\n",
        "In the first step, create a new directory called \"data\" in your home directory using the following command:"
      ],
      "metadata": {
        "id": "E037PKxTuj6O"
      }
    },
    {
      "cell_type": "code",
      "source": [
        "#Your code starts here\n",
        "!mkdir ~/data\n",
        "#Your code ends here"
      ],
      "metadata": {
        "id": "8dNgBvlJvGfY"
      },
      "execution_count": 6,
      "outputs": []
    },
    {
      "cell_type": "markdown",
      "source": [
        "#Step 2: Download the Iris dataset (6 Points)\n",
        "In the second step, download the Iris dataset using the following command:"
      ],
      "metadata": {
        "id": "ez92Y_NQvQw4"
      }
    },
    {
      "cell_type": "code",
      "source": [
        "#Your code starts here\n",
        "!wget https://archive.ics.uci.edu/ml/machine-learning-databases/iris/iris.data\n",
        "#Your code ends here"
      ],
      "metadata": {
        "id": "g-MtLPXSveGa",
        "colab": {
          "base_uri": "https://localhost:8080/"
        },
        "outputId": "074eef8a-b9f1-4707-b208-f7c4e127456a"
      },
      "execution_count": 11,
      "outputs": [
        {
          "output_type": "stream",
          "name": "stdout",
          "text": [
            "--2023-03-03 01:28:36--  https://archive.ics.uci.edu/ml/machine-learning-databases/iris/iris.data\n",
            "Resolving archive.ics.uci.edu (archive.ics.uci.edu)... 128.195.10.252\n",
            "Connecting to archive.ics.uci.edu (archive.ics.uci.edu)|128.195.10.252|:443... connected.\n",
            "HTTP request sent, awaiting response... 200 OK\n",
            "Length: 4551 (4.4K) [application/x-httpd-php]\n",
            "Saving to: ‘iris.data.2’\n",
            "\n",
            "\riris.data.2           0%[                    ]       0  --.-KB/s               \riris.data.2         100%[===================>]   4.44K  --.-KB/s    in 0s      \n",
            "\n",
            "2023-03-03 01:28:37 (144 MB/s) - ‘iris.data.2’ saved [4551/4551]\n",
            "\n"
          ]
        }
      ]
    },
    {
      "cell_type": "markdown",
      "source": [
        "This will download the dataset to the \"data\" directory you created in Step 1.\n",
        "\n"
      ],
      "metadata": {
        "id": "oCj9Uhxivk5-"
      }
    },
    {
      "cell_type": "markdown",
      "source": [
        "#Step 3: Move the dataset (6 Points)\n",
        "In the third step, create a directory named 'Iris' and move the iris.data to 'Iris' director çby using the following commands:"
      ],
      "metadata": {
        "id": "b9_t10IbvmvJ"
      }
    },
    {
      "cell_type": "code",
      "source": [
        "#Your code starts here\n",
        "!mkdir Iris\n",
        "!mv iris.data Iris/\n",
        "!ls Iris\n",
        "#Your code ends here"
      ],
      "metadata": {
        "id": "Ohxjg00Uvgro",
        "colab": {
          "base_uri": "https://localhost:8080/"
        },
        "outputId": "c86513c2-c5f6-44b7-ad66-a2ab854f6c7f"
      },
      "execution_count": 21,
      "outputs": [
        {
          "output_type": "stream",
          "name": "stdout",
          "text": [
            "mkdir: cannot create directory ‘Iris’: File exists\n",
            "iris.data\n"
          ]
        }
      ]
    },
    {
      "cell_type": "markdown",
      "source": [
        "#Step 4: Print the sepal length column (6 Points)\n",
        "In the fourth step, use the \"awk\" command to print only the first column of the dataset file (the sepal length) using the following command:\n"
      ],
      "metadata": {
        "id": "rhBCMTUcy9oo"
      }
    },
    {
      "cell_type": "code",
      "source": [
        "#Your code starts here\n",
        "!awk -F ',' '{print $1}' Iris/iris.data\n",
        "\n",
        "#Your code ends here"
      ],
      "metadata": {
        "id": "53khGkFdvg9M",
        "colab": {
          "base_uri": "https://localhost:8080/"
        },
        "outputId": "6c912dee-b3d5-44a5-9886-5fa431975408"
      },
      "execution_count": 23,
      "outputs": [
        {
          "output_type": "stream",
          "name": "stdout",
          "text": [
            "5.1\n",
            "4.9\n",
            "4.7\n",
            "4.6\n",
            "5.0\n",
            "5.4\n",
            "4.6\n",
            "5.0\n",
            "4.4\n",
            "4.9\n",
            "5.4\n",
            "4.8\n",
            "4.8\n",
            "4.3\n",
            "5.8\n",
            "5.7\n",
            "5.4\n",
            "5.1\n",
            "5.7\n",
            "5.1\n",
            "5.4\n",
            "5.1\n",
            "4.6\n",
            "5.1\n",
            "4.8\n",
            "5.0\n",
            "5.0\n",
            "5.2\n",
            "5.2\n",
            "4.7\n",
            "4.8\n",
            "5.4\n",
            "5.2\n",
            "5.5\n",
            "4.9\n",
            "5.0\n",
            "5.5\n",
            "4.9\n",
            "4.4\n",
            "5.1\n",
            "5.0\n",
            "4.5\n",
            "4.4\n",
            "5.0\n",
            "5.1\n",
            "4.8\n",
            "5.1\n",
            "4.6\n",
            "5.3\n",
            "5.0\n",
            "7.0\n",
            "6.4\n",
            "6.9\n",
            "5.5\n",
            "6.5\n",
            "5.7\n",
            "6.3\n",
            "4.9\n",
            "6.6\n",
            "5.2\n",
            "5.0\n",
            "5.9\n",
            "6.0\n",
            "6.1\n",
            "5.6\n",
            "6.7\n",
            "5.6\n",
            "5.8\n",
            "6.2\n",
            "5.6\n",
            "5.9\n",
            "6.1\n",
            "6.3\n",
            "6.1\n",
            "6.4\n",
            "6.6\n",
            "6.8\n",
            "6.7\n",
            "6.0\n",
            "5.7\n",
            "5.5\n",
            "5.5\n",
            "5.8\n",
            "6.0\n",
            "5.4\n",
            "6.0\n",
            "6.7\n",
            "6.3\n",
            "5.6\n",
            "5.5\n",
            "5.5\n",
            "6.1\n",
            "5.8\n",
            "5.0\n",
            "5.6\n",
            "5.7\n",
            "5.7\n",
            "6.2\n",
            "5.1\n",
            "5.7\n",
            "6.3\n",
            "5.8\n",
            "7.1\n",
            "6.3\n",
            "6.5\n",
            "7.6\n",
            "4.9\n",
            "7.3\n",
            "6.7\n",
            "7.2\n",
            "6.5\n",
            "6.4\n",
            "6.8\n",
            "5.7\n",
            "5.8\n",
            "6.4\n",
            "6.5\n",
            "7.7\n",
            "7.7\n",
            "6.0\n",
            "6.9\n",
            "5.6\n",
            "7.7\n",
            "6.3\n",
            "6.7\n",
            "7.2\n",
            "6.2\n",
            "6.1\n",
            "6.4\n",
            "7.2\n",
            "7.4\n",
            "7.9\n",
            "6.4\n",
            "6.3\n",
            "6.1\n",
            "7.7\n",
            "6.3\n",
            "6.4\n",
            "6.0\n",
            "6.9\n",
            "6.7\n",
            "6.9\n",
            "5.8\n",
            "6.8\n",
            "6.7\n",
            "6.7\n",
            "6.3\n",
            "6.5\n",
            "6.2\n",
            "5.9\n",
            "\n"
          ]
        }
      ]
    },
    {
      "cell_type": "markdown",
      "source": [
        "#Step 5: Filter the dataset for versicolor species (6 Points)\n",
        "In the fifth step, use the \"grep\" command to filter the dataset file to only include rows where the species is \"versicolor\" using the following command:\n",
        "\n"
      ],
      "metadata": {
        "id": "cfGs0dLNzPHU"
      }
    },
    {
      "cell_type": "code",
      "source": [
        "#Your code starts here\n",
        "!grep \"versicolor\" Iris/iris.data\n",
        "#Your code ends here"
      ],
      "metadata": {
        "id": "9-NIk6Z7vhIg",
        "colab": {
          "base_uri": "https://localhost:8080/"
        },
        "outputId": "7772c0de-2326-4ee2-ad25-494e697f5a7a"
      },
      "execution_count": 25,
      "outputs": [
        {
          "output_type": "stream",
          "name": "stdout",
          "text": [
            "7.0,3.2,4.7,1.4,Iris-versicolor\n",
            "6.4,3.2,4.5,1.5,Iris-versicolor\n",
            "6.9,3.1,4.9,1.5,Iris-versicolor\n",
            "5.5,2.3,4.0,1.3,Iris-versicolor\n",
            "6.5,2.8,4.6,1.5,Iris-versicolor\n",
            "5.7,2.8,4.5,1.3,Iris-versicolor\n",
            "6.3,3.3,4.7,1.6,Iris-versicolor\n",
            "4.9,2.4,3.3,1.0,Iris-versicolor\n",
            "6.6,2.9,4.6,1.3,Iris-versicolor\n",
            "5.2,2.7,3.9,1.4,Iris-versicolor\n",
            "5.0,2.0,3.5,1.0,Iris-versicolor\n",
            "5.9,3.0,4.2,1.5,Iris-versicolor\n",
            "6.0,2.2,4.0,1.0,Iris-versicolor\n",
            "6.1,2.9,4.7,1.4,Iris-versicolor\n",
            "5.6,2.9,3.6,1.3,Iris-versicolor\n",
            "6.7,3.1,4.4,1.4,Iris-versicolor\n",
            "5.6,3.0,4.5,1.5,Iris-versicolor\n",
            "5.8,2.7,4.1,1.0,Iris-versicolor\n",
            "6.2,2.2,4.5,1.5,Iris-versicolor\n",
            "5.6,2.5,3.9,1.1,Iris-versicolor\n",
            "5.9,3.2,4.8,1.8,Iris-versicolor\n",
            "6.1,2.8,4.0,1.3,Iris-versicolor\n",
            "6.3,2.5,4.9,1.5,Iris-versicolor\n",
            "6.1,2.8,4.7,1.2,Iris-versicolor\n",
            "6.4,2.9,4.3,1.3,Iris-versicolor\n",
            "6.6,3.0,4.4,1.4,Iris-versicolor\n",
            "6.8,2.8,4.8,1.4,Iris-versicolor\n",
            "6.7,3.0,5.0,1.7,Iris-versicolor\n",
            "6.0,2.9,4.5,1.5,Iris-versicolor\n",
            "5.7,2.6,3.5,1.0,Iris-versicolor\n",
            "5.5,2.4,3.8,1.1,Iris-versicolor\n",
            "5.5,2.4,3.7,1.0,Iris-versicolor\n",
            "5.8,2.7,3.9,1.2,Iris-versicolor\n",
            "6.0,2.7,5.1,1.6,Iris-versicolor\n",
            "5.4,3.0,4.5,1.5,Iris-versicolor\n",
            "6.0,3.4,4.5,1.6,Iris-versicolor\n",
            "6.7,3.1,4.7,1.5,Iris-versicolor\n",
            "6.3,2.3,4.4,1.3,Iris-versicolor\n",
            "5.6,3.0,4.1,1.3,Iris-versicolor\n",
            "5.5,2.5,4.0,1.3,Iris-versicolor\n",
            "5.5,2.6,4.4,1.2,Iris-versicolor\n",
            "6.1,3.0,4.6,1.4,Iris-versicolor\n",
            "5.8,2.6,4.0,1.2,Iris-versicolor\n",
            "5.0,2.3,3.3,1.0,Iris-versicolor\n",
            "5.6,2.7,4.2,1.3,Iris-versicolor\n",
            "5.7,3.0,4.2,1.2,Iris-versicolor\n",
            "5.7,2.9,4.2,1.3,Iris-versicolor\n",
            "6.2,2.9,4.3,1.3,Iris-versicolor\n",
            "5.1,2.5,3.0,1.1,Iris-versicolor\n",
            "5.7,2.8,4.1,1.3,Iris-versicolor\n"
          ]
        }
      ]
    },
    {
      "cell_type": "markdown",
      "source": [
        "#Step 6: Sort the dataset by sepal length (6 Points)\n",
        "In the sixth step, use the \"sort\" command to sort the filtered dataset by the sepal length in descending order using the following command:\n",
        "\n"
      ],
      "metadata": {
        "id": "FKjLkMiZzl5R"
      }
    },
    {
      "cell_type": "code",
      "source": [
        "#Your code starts here\n",
        "!grep \"versicolor\" Iris/iris.data | sort -k 1nr >> versicolor_sorted.txt\n",
        "#Your code ends here"
      ],
      "metadata": {
        "id": "rH38oijozXBP"
      },
      "execution_count": 30,
      "outputs": []
    },
    {
      "cell_type": "markdown",
      "source": [
        "#Step 7: Print the first three columns of the sorted dataset (6 Points)\n",
        "In the seventh step, use the \"cut\" command to print only the first three columns of the sorted dataset using the following command:\n",
        "\n"
      ],
      "metadata": {
        "id": "NGn0NmjCzpnz"
      }
    },
    {
      "cell_type": "code",
      "source": [
        "#Your code starts here\n",
        "!cut -d',' -f1-3 versicolor_sorted.txt\n",
        "#Your code ends here"
      ],
      "metadata": {
        "id": "Rz8JHoX-zXI-",
        "colab": {
          "base_uri": "https://localhost:8080/"
        },
        "outputId": "17b60e14-3094-4f93-8563-59286593bb62"
      },
      "execution_count": 31,
      "outputs": [
        {
          "output_type": "stream",
          "name": "stdout",
          "text": [
            "7.0,3.2,4.7\n",
            "6.9,3.1,4.9\n",
            "6.8,2.8,4.8\n",
            "6.7,3.0,5.0\n",
            "6.7,3.1,4.4\n",
            "6.7,3.1,4.7\n",
            "6.6,2.9,4.6\n",
            "6.6,3.0,4.4\n",
            "6.5,2.8,4.6\n",
            "6.4,2.9,4.3\n",
            "6.4,3.2,4.5\n",
            "6.3,2.3,4.4\n",
            "6.3,2.5,4.9\n",
            "6.3,3.3,4.7\n",
            "6.2,2.2,4.5\n",
            "6.2,2.9,4.3\n",
            "6.1,2.8,4.0\n",
            "6.1,2.8,4.7\n",
            "6.1,2.9,4.7\n",
            "6.1,3.0,4.6\n",
            "6.0,2.2,4.0\n",
            "6.0,2.7,5.1\n",
            "6.0,2.9,4.5\n",
            "6.0,3.4,4.5\n",
            "5.9,3.0,4.2\n",
            "5.9,3.2,4.8\n",
            "5.8,2.6,4.0\n",
            "5.8,2.7,3.9\n",
            "5.8,2.7,4.1\n",
            "5.7,2.6,3.5\n",
            "5.7,2.8,4.1\n",
            "5.7,2.8,4.5\n",
            "5.7,2.9,4.2\n",
            "5.7,3.0,4.2\n",
            "5.6,2.5,3.9\n",
            "5.6,2.7,4.2\n",
            "5.6,2.9,3.6\n",
            "5.6,3.0,4.1\n",
            "5.6,3.0,4.5\n",
            "5.5,2.3,4.0\n",
            "5.5,2.4,3.7\n",
            "5.5,2.4,3.8\n",
            "5.5,2.5,4.0\n",
            "5.5,2.6,4.4\n",
            "5.4,3.0,4.5\n",
            "5.2,2.7,3.9\n",
            "5.1,2.5,3.0\n",
            "5.0,2.0,3.5\n",
            "5.0,2.3,3.3\n",
            "4.9,2.4,3.3\n"
          ]
        }
      ]
    },
    {
      "cell_type": "markdown",
      "source": [
        "#Step 8: Replace the species name with \"Iris-versicolor\" (6 Points)\n",
        "In the eighth step, use the \"sed\" command to replace the species name \"versicolor\" with \"Iris-versicolor\" in the filtered dataset using the following command:"
      ],
      "metadata": {
        "id": "kthXo36gzwz3"
      }
    },
    {
      "cell_type": "code",
      "source": [
        "#Your code starts here\n",
        "!sed -i 's/versicolor/Iris-versicolor/g' versicolor_sorted.txt\n",
        "#Your code ends here"
      ],
      "metadata": {
        "id": "NdeZbgUczXOi"
      },
      "execution_count": 33,
      "outputs": []
    },
    {
      "cell_type": "markdown",
      "source": [
        "#Step 9: Print the first 10 lines of the final dataset (6 Points)\n",
        "In the ninth step, use the \"head\" command to print the first 10 lines of the final dataset using the following command:"
      ],
      "metadata": {
        "id": "Nt7QpTx3z3AO"
      }
    },
    {
      "cell_type": "code",
      "source": [
        "#Your code starts here\n",
        "!cat versicolor_sorted.txt | head -n 10\n",
        "#Your code ends here"
      ],
      "metadata": {
        "id": "dmqdHTGszYf7",
        "colab": {
          "base_uri": "https://localhost:8080/"
        },
        "outputId": "8029b790-41a5-421b-c2ca-ff997eb76798"
      },
      "execution_count": 34,
      "outputs": [
        {
          "output_type": "stream",
          "name": "stdout",
          "text": [
            "7.0,3.2,4.7,1.4,Iris-Iris-versicolor\n",
            "6.9,3.1,4.9,1.5,Iris-Iris-versicolor\n",
            "6.8,2.8,4.8,1.4,Iris-Iris-versicolor\n",
            "6.7,3.0,5.0,1.7,Iris-Iris-versicolor\n",
            "6.7,3.1,4.4,1.4,Iris-Iris-versicolor\n",
            "6.7,3.1,4.7,1.5,Iris-Iris-versicolor\n",
            "6.6,2.9,4.6,1.3,Iris-Iris-versicolor\n",
            "6.6,3.0,4.4,1.4,Iris-Iris-versicolor\n",
            "6.5,2.8,4.6,1.5,Iris-Iris-versicolor\n",
            "6.4,2.9,4.3,1.3,Iris-Iris-versicolor\n"
          ]
        }
      ]
    },
    {
      "cell_type": "markdown",
      "source": [
        "#Step 10: Compress the \"data\" directory into a tarball (6 Points)\n",
        "In the tenth step, use the \"tar\" command to compress the \"data\" directory into a tarball called \"data.tar.gz\" using the following command:"
      ],
      "metadata": {
        "id": "767zQG6E0Eoy"
      }
    },
    {
      "cell_type": "code",
      "source": [
        "#Your code starts here\n",
        "!!tar -czvf data.tar.gz data/\n",
        "!ls\n",
        "#Your code ends here"
      ],
      "metadata": {
        "id": "ydPfnA7UzYnr",
        "colab": {
          "base_uri": "https://localhost:8080/"
        },
        "outputId": "ef6fd002-cb5a-4211-d5f9-b1cffcaf0c26"
      },
      "execution_count": 42,
      "outputs": [
        {
          "output_type": "stream",
          "name": "stdout",
          "text": [
            "data.tar.gz  Iris  sample_data\tversicolor_sorted.txt\n"
          ]
        }
      ]
    },
    {
      "cell_type": "markdown",
      "source": [
        "#Step 11: Move the tarball to the \"backup\" directory (6 Points)\n",
        "In the eleventh step, move the tarball into a new directory called \"backup\" in your home directory using the following command:"
      ],
      "metadata": {
        "id": "UBap_dpN0K-H"
      }
    },
    {
      "cell_type": "code",
      "source": [
        "#Your code starts here\n",
        "!mkdir backup\n",
        "!mv data.tar.gz backup\n",
        "#Your code ends here"
      ],
      "metadata": {
        "id": "gq0_25QyzYvL"
      },
      "execution_count": 43,
      "outputs": []
    },
    {
      "cell_type": "markdown",
      "source": [
        "#Step 12: Search for files modified in the last 7 days (6 Points)\n",
        "Use the \"find\" command to search for all files in the \"backup\" directory that have been modified in the last 7 days.\n",
        "\n",
        "\n"
      ],
      "metadata": {
        "id": "DPrNXwi90ORv"
      }
    },
    {
      "cell_type": "code",
      "source": [
        "#Your code starts here\n",
        "!find backup -type f -mtime -7\n",
        "#Your code ends here"
      ],
      "metadata": {
        "id": "fAuMnWulzY4F",
        "colab": {
          "base_uri": "https://localhost:8080/"
        },
        "outputId": "06d19039-7eea-4bd9-896a-042b1707dd47"
      },
      "execution_count": 44,
      "outputs": [
        {
          "output_type": "stream",
          "name": "stdout",
          "text": [
            "backup/data.tar.gz\n"
          ]
        }
      ]
    },
    {
      "cell_type": "markdown",
      "source": [
        "# Step 13: Compare the final dataset (6 Points)\n",
        "Use the \"diff\" command to compare the final dataset file in the \"data\" directory with the same file in the \"backup\" directory.\n",
        "\n"
      ],
      "metadata": {
        "id": "tPoXywnF1LSh"
      }
    },
    {
      "cell_type": "code",
      "source": [
        "#Your code starts here\n",
        "\n",
        "#Your code ends here"
      ],
      "metadata": {
        "id": "MclQqHIhzY_k"
      },
      "execution_count": null,
      "outputs": []
    },
    {
      "cell_type": "markdown",
      "source": [
        "# Step 14: Compare the compressed tarball (6 Points)\n",
        "Use the \"cmp\" command to compare the compressed tarball in the \"backup\" directory with the original \"data\" directory to ensure they are identical.\n",
        "\n"
      ],
      "metadata": {
        "id": "qua1Lpow1lg1"
      }
    },
    {
      "cell_type": "code",
      "source": [
        "#Your code starts here\n",
        "\n",
        "#Your code ends here"
      ],
      "metadata": {
        "id": "qCb5vd8hzZHU"
      },
      "execution_count": null,
      "outputs": []
    },
    {
      "cell_type": "markdown",
      "source": [
        "# Step 15: Write a Bash Script (10 Points)\n",
        "Write a Bash script that automates all of the above steps and saves the final dataset file in a new file called \"final_dataset.csv\".\n"
      ],
      "metadata": {
        "id": "nhuldz2n1xv3"
      }
    },
    {
      "cell_type": "code",
      "source": [
        "#!/bin/bash\n",
        "\n",
        "# Create data directory\n",
        "\n",
        "\n",
        "# Download dataset\n",
        "\n",
        "\n",
        "# Print only first column (sepal length)\n",
        "\n",
        "\n",
        "# Filter rows where species is \"versicolor\"\n",
        "\n",
        "\n",
        "# Sort filtered dataset by sepal length in descending order\n",
        "\n",
        "\n",
        "# Print only first three columns of sorted dataset\n",
        "\n",
        "\n",
        "# Replace \"versicolor\" with \"Iris-versicolor\"\n",
        "\n",
        "\n",
        "# Print first 10 lines of final dataset\n",
        "\n",
        "\n",
        "# Compress data directory into tarball\n",
        "\n",
        "\n",
        "# Create backup directory and move tarball into it\n",
        "\n",
        "\n",
        "# Search for modified files in backup directory\n",
        "\n",
        "\n",
        "# Compare final dataset file with backup file\n",
        "\n",
        "\n",
        "# Compare compressed tarball with original data directory\n",
        "\n",
        "\n",
        "# Save final dataset as CSV file\n",
        "\n"
      ],
      "metadata": {
        "id": "yryrTP5JzZOD"
      },
      "execution_count": null,
      "outputs": []
    },
    {
      "cell_type": "markdown",
      "source": [
        "This script automates all of the steps mentioned in the assignment and saves the final dataset file in a new file called \"final_dataset.csv\". You can run this script in a Bash environment, such as the terminal of a Linux machine or a Bash shell in a Jupyter notebook."
      ],
      "metadata": {
        "id": "qi2t8KVF4CtT"
      }
    },
    {
      "cell_type": "markdown",
      "source": [
        "# Make script executable (3 Points)\n",
        "Finally, we need to make the script executable. Run the following command in the terminal:\n",
        "\n"
      ],
      "metadata": {
        "id": "o2zU1U-Q69PL"
      }
    },
    {
      "cell_type": "code",
      "source": [
        "#Your code starts here\n",
        "\n",
        "#Your code ends here"
      ],
      "metadata": {
        "id": "XUSB0vDf7ETd"
      },
      "execution_count": null,
      "outputs": []
    },
    {
      "cell_type": "markdown",
      "source": [
        "# Bonus: Run script (3 Points)\n",
        "To run the script, simply enter the following command:\n"
      ],
      "metadata": {
        "id": "X4GFN3D17PWq"
      }
    },
    {
      "cell_type": "code",
      "source": [
        "#Your code starts here\n",
        "\n",
        "#Your code ends here"
      ],
      "metadata": {
        "id": "EE2j4LFF7eMi"
      },
      "execution_count": null,
      "outputs": []
    },
    {
      "cell_type": "markdown",
      "source": [
        "This will execute the script and perform all of the necessary\n",
        "\n",
        "**Well done!You made it.**\n",
        "\n"
      ],
      "metadata": {
        "id": "1ebjFEnu7g_4"
      }
    }
  ]
}