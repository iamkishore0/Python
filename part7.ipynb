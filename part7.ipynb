{
  "nbformat": 4,
  "nbformat_minor": 0,
  "metadata": {
    "colab": {
      "provenance": [],
      "authorship_tag": "ABX9TyPL4jxsWQ4JEx8jOoTDZawH",
      "include_colab_link": true
    },
    "kernelspec": {
      "name": "python3",
      "display_name": "Python 3"
    },
    "language_info": {
      "name": "python"
    }
  },
  "cells": [
    {
      "cell_type": "markdown",
      "metadata": {
        "id": "view-in-github",
        "colab_type": "text"
      },
      "source": [
        "<a href=\"https://colab.research.google.com/github/iamkishore0/Python/blob/main/part7.ipynb\" target=\"_parent\"><img src=\"https://colab.research.google.com/assets/colab-badge.svg\" alt=\"Open In Colab\"/></a>"
      ]
    },
    {
      "cell_type": "markdown",
      "source": [
        "#Dictionaries\n",
        "\n",
        "Dictionaries are defined as key and values"
      ],
      "metadata": {
        "id": "PSY7XVUyzWuO"
      }
    },
    {
      "cell_type": "code",
      "source": [
        "x = {'Region':'USA',\n",
        "     'Vehicle':'four wheeler',\n",
        "     'Brand':'Benz',\n",
        "     'Model':'R1'\n",
        "    }\n",
        "    \n",
        "type(x)"
      ],
      "metadata": {
        "colab": {
          "base_uri": "https://localhost:8080/"
        },
        "id": "QJo2stBMzess",
        "outputId": "efdb3743-4223-4b62-9c5f-591d59648071"
      },
      "execution_count": 1,
      "outputs": [
        {
          "output_type": "execute_result",
          "data": {
            "text/plain": [
              "dict"
            ]
          },
          "metadata": {},
          "execution_count": 1
        }
      ]
    },
    {
      "cell_type": "code",
      "source": [
        "#Accessing Dictionary\n",
        "print(x['Region'])\n",
        "print(x['Vehicle'])\n",
        "print(x['Brand'])\n",
        "print(x['Model'])"
      ],
      "metadata": {
        "colab": {
          "base_uri": "https://localhost:8080/"
        },
        "id": "HKEAqn4jzoWV",
        "outputId": "f773aaab-cb82-46b4-fbc7-4e8c9e8e3e0d"
      },
      "execution_count": 4,
      "outputs": [
        {
          "output_type": "stream",
          "name": "stdout",
          "text": [
            "USA\n",
            "four wheeler\n",
            "Benz\n",
            "R1\n"
          ]
        }
      ]
    },
    {
      "cell_type": "code",
      "source": [
        "#Adding Data to Dictionary\n",
        "x['Manfacturing_Year'] = '2009'\n",
        "print(x)"
      ],
      "metadata": {
        "colab": {
          "base_uri": "https://localhost:8080/"
        },
        "id": "DKxtzlTIz4J5",
        "outputId": "3333fed0-b1d1-48f5-e292-17d01fc9cf8d"
      },
      "execution_count": 5,
      "outputs": [
        {
          "output_type": "stream",
          "name": "stdout",
          "text": [
            "{'Region': 'USA', 'Vehicle': 'four wheeler', 'Brand': 'Benz', 'Model': 'R1', 'Manfacturing_Year': '2009'}\n"
          ]
        }
      ]
    },
    {
      "cell_type": "code",
      "source": [
        "#Manipulating Values\n",
        "x['Brand'] = 'Audi'"
      ],
      "metadata": {
        "id": "uGg6n23Fz_mF"
      },
      "execution_count": 6,
      "outputs": []
    },
    {
      "cell_type": "code",
      "source": [
        "#Removing a value\n",
        "x.pop('Region')\n",
        "print(x)"
      ],
      "metadata": {
        "colab": {
          "base_uri": "https://localhost:8080/"
        },
        "id": "RE62X39_0HRd",
        "outputId": "274b2c49-4ad5-4fed-cda5-12beac7efb82"
      },
      "execution_count": 7,
      "outputs": [
        {
          "output_type": "stream",
          "name": "stdout",
          "text": [
            "{'Vehicle': 'four wheeler', 'Brand': 'Audi', 'Model': 'R1', 'Manfacturing_Year': '2009'}\n"
          ]
        }
      ]
    },
    {
      "cell_type": "code",
      "source": [
        "#Empty entire directory\n",
        "x.clear()\n",
        "print(x)"
      ],
      "metadata": {
        "colab": {
          "base_uri": "https://localhost:8080/"
        },
        "id": "cm70uSOG0MAV",
        "outputId": "d47c2a1c-e874-468f-f75d-ed8895885e95"
      },
      "execution_count": 8,
      "outputs": [
        {
          "output_type": "stream",
          "name": "stdout",
          "text": [
            "{}\n"
          ]
        }
      ]
    },
    {
      "cell_type": "code",
      "source": [
        "#Delete variable\n",
        "del x"
      ],
      "metadata": {
        "id": "07g77H6i0XQ8"
      },
      "execution_count": 9,
      "outputs": []
    },
    {
      "cell_type": "code",
      "source": [
        "#Looping \n",
        "x = {'Region':'USA',\n",
        "     'Vehicle':'four wheeler',\n",
        "     'Brand':'Benz',\n",
        "     'Model':'R1'\n",
        "    }\n",
        "\n",
        "#print keys\n",
        "for i in x:\n",
        "  print(i)"
      ],
      "metadata": {
        "colab": {
          "base_uri": "https://localhost:8080/"
        },
        "id": "Qu8_Mbz50bIk",
        "outputId": "6c984d58-5199-4d76-ade9-40afdb81d333"
      },
      "execution_count": 10,
      "outputs": [
        {
          "output_type": "stream",
          "name": "stdout",
          "text": [
            "Region\n",
            "Vehicle\n",
            "Brand\n",
            "Model\n"
          ]
        }
      ]
    },
    {
      "cell_type": "code",
      "source": [
        "#Print Values\n",
        "for i in x:\n",
        "  print(x[i])"
      ],
      "metadata": {
        "colab": {
          "base_uri": "https://localhost:8080/"
        },
        "id": "AhxGo7_J0uRN",
        "outputId": "8f374c09-f31f-4d7b-a24a-2dcecaf8ba62"
      },
      "execution_count": 11,
      "outputs": [
        {
          "output_type": "stream",
          "name": "stdout",
          "text": [
            "USA\n",
            "four wheeler\n",
            "Benz\n",
            "R1\n"
          ]
        }
      ]
    },
    {
      "cell_type": "code",
      "source": [
        "#Print both Keys and Values\n",
        "for i in x:\n",
        "  print(i,  x[i])"
      ],
      "metadata": {
        "colab": {
          "base_uri": "https://localhost:8080/"
        },
        "id": "9fOwMaXj04Il",
        "outputId": "54440f14-44a7-4618-a503-2f984b70a505"
      },
      "execution_count": 12,
      "outputs": [
        {
          "output_type": "stream",
          "name": "stdout",
          "text": [
            "Region USA\n",
            "Vehicle four wheeler\n",
            "Brand Benz\n",
            "Model R1\n"
          ]
        }
      ]
    }
  ]
}