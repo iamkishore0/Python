{
  "nbformat": 4,
  "nbformat_minor": 0,
  "metadata": {
    "colab": {
      "provenance": [],
      "authorship_tag": "ABX9TyPFwRsExvW3Pruh38OHgoq2",
      "include_colab_link": true
    },
    "kernelspec": {
      "name": "python3",
      "display_name": "Python 3"
    },
    "language_info": {
      "name": "python"
    }
  },
  "cells": [
    {
      "cell_type": "markdown",
      "metadata": {
        "id": "view-in-github",
        "colab_type": "text"
      },
      "source": [
        "<a href=\"https://colab.research.google.com/github/iamkishore0/Python/blob/main/Part1.ipynb\" target=\"_parent\"><img src=\"https://colab.research.google.com/assets/colab-badge.svg\" alt=\"Open In Colab\"/></a>"
      ]
    },
    {
      "cell_type": "markdown",
      "source": [
        "#The Print Function\n",
        "\n",
        "```\n",
        "# This is formatted as code\n",
        "```\n",
        "\n"
      ],
      "metadata": {
        "id": "2z9qdgSEW-Da"
      }
    },
    {
      "cell_type": "code",
      "source": [
        "print('Hello World')"
      ],
      "metadata": {
        "colab": {
          "base_uri": "https://localhost:8080/"
        },
        "id": "-42clBcDXCbI",
        "outputId": "2b155d37-0899-49e3-8d87-2615ca50c78f"
      },
      "execution_count": 21,
      "outputs": [
        {
          "output_type": "stream",
          "name": "stdout",
          "text": [
            "Hello World\n"
          ]
        }
      ]
    },
    {
      "cell_type": "code",
      "source": [
        "print('Welcome to Data Science Family')"
      ],
      "metadata": {
        "colab": {
          "base_uri": "https://localhost:8080/"
        },
        "id": "9BeoocAXXFla",
        "outputId": "aae61bb2-2dd9-4a05-adfa-3c18438e48d7"
      },
      "execution_count": 22,
      "outputs": [
        {
          "output_type": "stream",
          "name": "stdout",
          "text": [
            "Welcome to Data Science Family\n"
          ]
        }
      ]
    },
    {
      "cell_type": "markdown",
      "source": [
        "#Variables"
      ],
      "metadata": {
        "id": "J4KzLgG-XNeK"
      }
    },
    {
      "cell_type": "code",
      "source": [
        "region = 'Asia'"
      ],
      "metadata": {
        "id": "KXvgn91oXTLr"
      },
      "execution_count": 23,
      "outputs": []
    },
    {
      "cell_type": "code",
      "source": [
        "print(region)"
      ],
      "metadata": {
        "colab": {
          "base_uri": "https://localhost:8080/"
        },
        "id": "wd7XGEXfXg7q",
        "outputId": "5237fb10-e621-45a3-f899-e05407c0166b"
      },
      "execution_count": 24,
      "outputs": [
        {
          "output_type": "stream",
          "name": "stdout",
          "text": [
            "Asia\n"
          ]
        }
      ]
    },
    {
      "cell_type": "code",
      "source": [
        "integer = 5"
      ],
      "metadata": {
        "id": "-5YuHxDMXjSq"
      },
      "execution_count": 25,
      "outputs": []
    },
    {
      "cell_type": "code",
      "source": [
        "print(integer)"
      ],
      "metadata": {
        "colab": {
          "base_uri": "https://localhost:8080/"
        },
        "id": "U8sXFm4nXnTa",
        "outputId": "842392e3-112f-4680-aab5-410fad928dc1"
      },
      "execution_count": 26,
      "outputs": [
        {
          "output_type": "stream",
          "name": "stdout",
          "text": [
            "5\n"
          ]
        }
      ]
    },
    {
      "cell_type": "code",
      "source": [
        "float_val = 5.98"
      ],
      "metadata": {
        "id": "j9NTyuqvXqxS"
      },
      "execution_count": 27,
      "outputs": []
    },
    {
      "cell_type": "code",
      "source": [
        "print(float_val)"
      ],
      "metadata": {
        "colab": {
          "base_uri": "https://localhost:8080/"
        },
        "id": "H4Q0mrfUX3in",
        "outputId": "15b54df4-1c7c-46db-8772-04a6d0547230"
      },
      "execution_count": 28,
      "outputs": [
        {
          "output_type": "stream",
          "name": "stdout",
          "text": [
            "5.98\n"
          ]
        }
      ]
    },
    {
      "cell_type": "markdown",
      "source": [
        "#Data types"
      ],
      "metadata": {
        "id": "qOJjs9UkX7Fg"
      }
    },
    {
      "cell_type": "code",
      "source": [
        "a = 'india'\n",
        "b = 22\n",
        "c = 3.45\n",
        "d = True"
      ],
      "metadata": {
        "id": "eFbUZhFeYUBM"
      },
      "execution_count": 29,
      "outputs": []
    },
    {
      "cell_type": "code",
      "source": [
        "print(type(a))\n",
        "print(type(b))\n",
        "print(type(c))\n",
        "print(type(d))"
      ],
      "metadata": {
        "colab": {
          "base_uri": "https://localhost:8080/"
        },
        "id": "HlOt8KPeYdpk",
        "outputId": "67cd3e69-9300-4368-f375-3e1706ead106"
      },
      "execution_count": 30,
      "outputs": [
        {
          "output_type": "stream",
          "name": "stdout",
          "text": [
            "<class 'str'>\n",
            "<class 'int'>\n",
            "<class 'float'>\n",
            "<class 'bool'>\n"
          ]
        }
      ]
    },
    {
      "cell_type": "markdown",
      "source": [
        "#Arithmatic Operators"
      ],
      "metadata": {
        "id": "FVJ0Zkq5YrMh"
      }
    },
    {
      "cell_type": "code",
      "source": [
        "x = 5\n",
        "y = 6\n",
        "z = 9"
      ],
      "metadata": {
        "id": "BTqAr0ZXamVV"
      },
      "execution_count": 31,
      "outputs": []
    },
    {
      "cell_type": "code",
      "source": [
        "#Addition\n",
        "print(x+y)\n",
        "print(x+z)\n",
        "print(x+y+z)"
      ],
      "metadata": {
        "colab": {
          "base_uri": "https://localhost:8080/"
        },
        "id": "y5TDKEAoarJe",
        "outputId": "9a1bdb35-3cb9-4fc7-b117-21611ce8ad1f"
      },
      "execution_count": 32,
      "outputs": [
        {
          "output_type": "stream",
          "name": "stdout",
          "text": [
            "11\n",
            "14\n",
            "20\n"
          ]
        }
      ]
    },
    {
      "cell_type": "code",
      "source": [
        "#Subtraction\n",
        "print(x-y)\n",
        "print(x-z)\n",
        "print(x-y-z)"
      ],
      "metadata": {
        "colab": {
          "base_uri": "https://localhost:8080/"
        },
        "id": "YTUbsykbawX3",
        "outputId": "4c7d0cd8-07b5-4932-9993-e17bc62b9280"
      },
      "execution_count": 33,
      "outputs": [
        {
          "output_type": "stream",
          "name": "stdout",
          "text": [
            "-1\n",
            "-4\n",
            "-10\n"
          ]
        }
      ]
    },
    {
      "cell_type": "code",
      "source": [
        "#Multiplication\n",
        "print(x*y)\n",
        "print(x*z)\n",
        "print(x*y*z)"
      ],
      "metadata": {
        "colab": {
          "base_uri": "https://localhost:8080/"
        },
        "id": "O4trOjhObDgs",
        "outputId": "95f896bb-1456-46e0-e10e-35106cdbae65"
      },
      "execution_count": 34,
      "outputs": [
        {
          "output_type": "stream",
          "name": "stdout",
          "text": [
            "30\n",
            "45\n",
            "270\n"
          ]
        }
      ]
    },
    {
      "cell_type": "code",
      "source": [
        "#Division\n",
        "print(x/y)\n",
        "print(x/z)\n",
        "print(z/x)\n",
        "print(x/x)\n",
        "print(z/z)\n",
        "print(y/y)\n",
        "print(x/y/z)"
      ],
      "metadata": {
        "colab": {
          "base_uri": "https://localhost:8080/"
        },
        "id": "fmUPVRx9bL5N",
        "outputId": "cb8c2bb3-4116-4450-b109-c1b1e4ba18d7"
      },
      "execution_count": 35,
      "outputs": [
        {
          "output_type": "stream",
          "name": "stdout",
          "text": [
            "0.8333333333333334\n",
            "0.5555555555555556\n",
            "1.8\n",
            "1.0\n",
            "1.0\n",
            "1.0\n",
            "0.0925925925925926\n"
          ]
        }
      ]
    },
    {
      "cell_type": "code",
      "source": [
        "#Floor Division - only returns integer not decimals\n",
        "print(x//y)\n",
        "print(x//z)\n",
        "print(y//z)"
      ],
      "metadata": {
        "colab": {
          "base_uri": "https://localhost:8080/"
        },
        "id": "hz6fvxCKbmxo",
        "outputId": "57fcf0f8-1201-4d93-c0d7-0486e7eae9c0"
      },
      "execution_count": 36,
      "outputs": [
        {
          "output_type": "stream",
          "name": "stdout",
          "text": [
            "0\n",
            "0\n",
            "0\n"
          ]
        }
      ]
    },
    {
      "cell_type": "code",
      "source": [
        "#Modulus - remainder part from division\n",
        "print(x%y)\n",
        "print(x%z)\n",
        "print(y%z)"
      ],
      "metadata": {
        "colab": {
          "base_uri": "https://localhost:8080/"
        },
        "id": "UlR1qc4rdFls",
        "outputId": "981d2b30-00fd-4e7d-b06b-083f824183d5"
      },
      "execution_count": 38,
      "outputs": [
        {
          "output_type": "stream",
          "name": "stdout",
          "text": [
            "5\n",
            "5\n",
            "6\n"
          ]
        }
      ]
    },
    {
      "cell_type": "code",
      "source": [
        "#Exponential - power\n",
        "print(x**y)\n",
        "print(x**z)\n",
        "print(y**z)"
      ],
      "metadata": {
        "colab": {
          "base_uri": "https://localhost:8080/"
        },
        "id": "fZnbLj_6czx-",
        "outputId": "55c8f6e4-004c-4cd4-e0e9-340fba4fc3e0"
      },
      "execution_count": 37,
      "outputs": [
        {
          "output_type": "stream",
          "name": "stdout",
          "text": [
            "15625\n",
            "1953125\n",
            "10077696\n"
          ]
        }
      ]
    },
    {
      "cell_type": "code",
      "source": [
        "#Order of Precedence\n",
        "#P – Parentheses.\n",
        "#E – Exponentiation.\n",
        "#M – Multiplication.\n",
        "#D – Division.\n",
        "#A – Addition.\n",
        "#S – Subtraction.\n",
        "\n",
        "print((2*2)+3-2/3)\n",
        "# first 2*2 >> 2/3 >> +3 >> -2 = 6.33"
      ],
      "metadata": {
        "colab": {
          "base_uri": "https://localhost:8080/"
        },
        "id": "ypF2Fb0Gdjkm",
        "outputId": "06823c36-e197-4b0b-9325-d178da19005d"
      },
      "execution_count": 39,
      "outputs": [
        {
          "output_type": "stream",
          "name": "stdout",
          "text": [
            "6.333333333333333\n"
          ]
        }
      ]
    },
    {
      "cell_type": "markdown",
      "source": [
        "#String Operations"
      ],
      "metadata": {
        "id": "V8X87MlMdNE1"
      }
    },
    {
      "cell_type": "code",
      "source": [
        "a = 'Australia'\n",
        "print(type(a))"
      ],
      "metadata": {
        "colab": {
          "base_uri": "https://localhost:8080/"
        },
        "id": "D97e0D4IfB8u",
        "outputId": "2cdbf448-b133-4699-c568-6c5ae9a600a0"
      },
      "execution_count": 44,
      "outputs": [
        {
          "output_type": "stream",
          "name": "stdout",
          "text": [
            "<class 'str'>\n"
          ]
        }
      ]
    },
    {
      "cell_type": "code",
      "source": [
        "#Slicing Operations\n",
        "print (a[0])        #Indexing starts from 0 in python\n",
        "print (a[-1])       #From back, it will be -1 and not -0\n",
        "print (a[0:3])      #3 is not counted\n",
        "print (a[4:])       #prints to the end\n",
        "print (a[:5])       #prints from begining up to 5\n",
        "print(a[::])        #prints every thing\n",
        "print(a[::-1])      #Entire string will get reversed"
      ],
      "metadata": {
        "colab": {
          "base_uri": "https://localhost:8080/"
        },
        "id": "8j9OU9QkfL3U",
        "outputId": "188592c0-bf6a-4790-944d-62f44cbbaad2"
      },
      "execution_count": 45,
      "outputs": [
        {
          "output_type": "stream",
          "name": "stdout",
          "text": [
            "A\n",
            "a\n",
            "Aus\n",
            "ralia\n",
            "Austr\n",
            "Australia\n",
            "ailartsuA\n"
          ]
        }
      ]
    },
    {
      "cell_type": "code",
      "source": [
        "#Concatenation\n",
        "a = 'Hello'\n",
        "b = 'World'\n",
        " \n",
        "c = a+b\n",
        " \n",
        "print(c)\n",
        "print(a+a)\n",
        "print(a+a+b+b)\n",
        "print(a+b+a+b)\n",
        "print(a*3)\n",
        "print(a*5)\n",
        "print(c*6)"
      ],
      "metadata": {
        "colab": {
          "base_uri": "https://localhost:8080/"
        },
        "id": "ptirp8hSf0ae",
        "outputId": "d159340e-8945-41ec-df79-c5be30cd7d1a"
      },
      "execution_count": 47,
      "outputs": [
        {
          "output_type": "stream",
          "name": "stdout",
          "text": [
            "HelloWorld\n",
            "HelloHello\n",
            "HelloHelloWorldWorld\n",
            "HelloWorldHelloWorld\n",
            "HelloHelloHello\n",
            "HelloHelloHelloHelloHello\n",
            "HelloWorldHelloWorldHelloWorldHelloWorldHelloWorldHelloWorld\n"
          ]
        }
      ]
    },
    {
      "cell_type": "code",
      "source": [
        "#Data Conversions\n",
        "a = 'my age is: '\n",
        "b = 25\n",
        " \n",
        "#c = a+b        #error, Concatenating an integer with string is not possible   \n",
        "c = a+str(b)   #converting int to string\n",
        "print(c)"
      ],
      "metadata": {
        "colab": {
          "base_uri": "https://localhost:8080/"
        },
        "id": "5yvJaewdgETt",
        "outputId": "28c23fab-4a71-4f4a-daa3-cb8e432dfdad"
      },
      "execution_count": 50,
      "outputs": [
        {
          "output_type": "stream",
          "name": "stdout",
          "text": [
            "my age is: 25\n"
          ]
        }
      ]
    },
    {
      "cell_type": "code",
      "source": [
        "#Format Method\n",
        "region = 'Iam from {}'\n",
        "b = 'Asia'\n",
        "output = region.format(a)\n",
        "print(output)\n",
        "\n",
        "\n",
        "region = 'are you from {}, or {} or {}'\n",
        "a = 'USA'\n",
        "b = 'UK'\n",
        "c = 'India'\n",
        "output = region.format(a, b, c)\n",
        "print(output)"
      ],
      "metadata": {
        "colab": {
          "base_uri": "https://localhost:8080/"
        },
        "id": "SFur-BE_gWg-",
        "outputId": "fa8391e9-360b-4c08-be74-6dba687f284c"
      },
      "execution_count": 51,
      "outputs": [
        {
          "output_type": "stream",
          "name": "stdout",
          "text": [
            "Iam from my age is: \n",
            "are you from USA, or UK or India\n"
          ]
        }
      ]
    },
    {
      "cell_type": "code",
      "source": [
        "#Quotes issue\n",
        "#a = \"my name is \"kishore\"\"   #gives error\n",
        "\n",
        "a = 'my name is \"ksihore\"'\n",
        "b = \"my name is \\\"kishore\\\"\"\n",
        "\n",
        "print(a)\n",
        "print(b)"
      ],
      "metadata": {
        "colab": {
          "base_uri": "https://localhost:8080/"
        },
        "id": "CK5g1uTzgdMV",
        "outputId": "1113d9fe-3e64-42c7-ab81-d72a84c6b416"
      },
      "execution_count": 53,
      "outputs": [
        {
          "output_type": "stream",
          "name": "stdout",
          "text": [
            "my name is \"ksihore\"\n",
            "my name is \"kishore\"\n"
          ]
        }
      ]
    },
    {
      "cell_type": "code",
      "source": [
        "#Back Slash\n",
        "a = 'Hello \\nWorld'\n",
        "print(a)"
      ],
      "metadata": {
        "colab": {
          "base_uri": "https://localhost:8080/"
        },
        "id": "iYiz-YW5goIl",
        "outputId": "9998738f-1780-45a1-eadc-f2fdf3f275a4"
      },
      "execution_count": 54,
      "outputs": [
        {
          "output_type": "stream",
          "name": "stdout",
          "text": [
            "Hello \n",
            "World\n"
          ]
        }
      ]
    },
    {
      "cell_type": "code",
      "source": [
        "#String Functions\n",
        "a = '  Hello World  '\n",
        "\n",
        "print(a.upper())            #captilize\n",
        "print(a.lower())            #smaller\n",
        "print(a.strip())            #removes starting and ending spaces\n",
        "print(len(a))               #prints length of string\n",
        "print(len(a.strip()))\n",
        "print(a.count(\"l\"))         #counts no. of l's in string\n",
        "print(a.replace(\"H\",\"J\"))   #Replace a string\n",
        "print(a.split())            #split a string in to two, makes a list"
      ],
      "metadata": {
        "colab": {
          "base_uri": "https://localhost:8080/"
        },
        "id": "gji5E-l2gzE1",
        "outputId": "70fb4870-16e4-4acd-e2d9-b7cd96819ce6"
      },
      "execution_count": 55,
      "outputs": [
        {
          "output_type": "stream",
          "name": "stdout",
          "text": [
            "  HELLO WORLD  \n",
            "  hello world  \n",
            "Hello World\n",
            "15\n",
            "11\n",
            "3\n",
            "  Jello World  \n",
            "['Hello', 'World']\n"
          ]
        }
      ]
    },
    {
      "cell_type": "code",
      "source": [
        "a = \"Hello World\"\n",
        "\n",
        "\"l\" in a"
      ],
      "metadata": {
        "colab": {
          "base_uri": "https://localhost:8080/"
        },
        "id": "YtKOulv6hKvd",
        "outputId": "546d0462-333e-4585-8f41-4f2ced7baea9"
      },
      "execution_count": 56,
      "outputs": [
        {
          "output_type": "execute_result",
          "data": {
            "text/plain": [
              "False"
            ]
          },
          "metadata": {},
          "execution_count": 56
        }
      ]
    },
    {
      "cell_type": "code",
      "source": [
        "\"z\" in a\n"
      ],
      "metadata": {
        "colab": {
          "base_uri": "https://localhost:8080/"
        },
        "id": "Bpoi3NuxhSlU",
        "outputId": "9b480a39-58da-4228-e947-42dd135c3e05"
      },
      "execution_count": 57,
      "outputs": [
        {
          "output_type": "execute_result",
          "data": {
            "text/plain": [
              "False"
            ]
          },
          "metadata": {},
          "execution_count": 57
        }
      ]
    },
    {
      "cell_type": "code",
      "source": [
        "\"Hello\" in a\n"
      ],
      "metadata": {
        "colab": {
          "base_uri": "https://localhost:8080/"
        },
        "id": "WyVrrKVrhVG9",
        "outputId": "131bf9b6-fc95-4017-cb64-0434df9046b4"
      },
      "execution_count": 58,
      "outputs": [
        {
          "output_type": "execute_result",
          "data": {
            "text/plain": [
              "True"
            ]
          },
          "metadata": {},
          "execution_count": 58
        }
      ]
    },
    {
      "cell_type": "code",
      "source": [
        "\"Hello\" in a"
      ],
      "metadata": {
        "colab": {
          "base_uri": "https://localhost:8080/"
        },
        "id": "ME9n3w2ehW0M",
        "outputId": "9934e40f-af37-4d93-abcc-560c19e91737"
      },
      "execution_count": 59,
      "outputs": [
        {
          "output_type": "execute_result",
          "data": {
            "text/plain": [
              "True"
            ]
          },
          "metadata": {},
          "execution_count": 59
        }
      ]
    },
    {
      "cell_type": "code",
      "source": [
        "\n",
        "\"Jello\" in a\n"
      ],
      "metadata": {
        "colab": {
          "base_uri": "https://localhost:8080/"
        },
        "id": "4R2-zRt0hZm8",
        "outputId": "abcae13f-b688-4179-8e62-45d8d4210103"
      },
      "execution_count": 60,
      "outputs": [
        {
          "output_type": "execute_result",
          "data": {
            "text/plain": [
              "False"
            ]
          },
          "metadata": {},
          "execution_count": 60
        }
      ]
    },
    {
      "cell_type": "code",
      "source": [
        "\"Hello\" not in a\n"
      ],
      "metadata": {
        "colab": {
          "base_uri": "https://localhost:8080/"
        },
        "id": "BYIIA4ilhcmF",
        "outputId": "836d1c9f-6754-42a1-e1b0-72f1e1794722"
      },
      "execution_count": 61,
      "outputs": [
        {
          "output_type": "execute_result",
          "data": {
            "text/plain": [
              "False"
            ]
          },
          "metadata": {},
          "execution_count": 61
        }
      ]
    },
    {
      "cell_type": "code",
      "source": [
        "\"Hello\" not in a.lower()\n"
      ],
      "metadata": {
        "colab": {
          "base_uri": "https://localhost:8080/"
        },
        "id": "nkt9RgMbhd50",
        "outputId": "0d3025be-2ef8-4285-cda8-172427e27182"
      },
      "execution_count": 62,
      "outputs": [
        {
          "output_type": "execute_result",
          "data": {
            "text/plain": [
              "True"
            ]
          },
          "metadata": {},
          "execution_count": 62
        }
      ]
    },
    {
      "cell_type": "code",
      "source": [
        "\"World\" in a.upper()"
      ],
      "metadata": {
        "colab": {
          "base_uri": "https://localhost:8080/"
        },
        "id": "hPtxQ9SShfEe",
        "outputId": "595dbe0b-4c7a-4df7-c97f-07968edf409b"
      },
      "execution_count": 63,
      "outputs": [
        {
          "output_type": "execute_result",
          "data": {
            "text/plain": [
              "False"
            ]
          },
          "metadata": {},
          "execution_count": 63
        }
      ]
    },
    {
      "cell_type": "markdown",
      "source": [
        "#String slicing assignment?"
      ],
      "metadata": {
        "id": "BEini1uOhhc8"
      }
    },
    {
      "cell_type": "code",
      "source": [
        "a = 'hello'\n",
        "\n",
        "print(a[1])"
      ],
      "metadata": {
        "colab": {
          "base_uri": "https://localhost:8080/"
        },
        "id": "E1aaSr-tiMlP",
        "outputId": "1923c453-2d91-4f36-e765-f311cdd72ecb"
      },
      "execution_count": 64,
      "outputs": [
        {
          "output_type": "stream",
          "name": "stdout",
          "text": [
            "e\n"
          ]
        }
      ]
    },
    {
      "cell_type": "code",
      "source": [
        "a[1] = 'i' #'str' object does not support item assignment"
      ],
      "metadata": {
        "colab": {
          "base_uri": "https://localhost:8080/",
          "height": 165
        },
        "id": "KjTthkz7iSnF",
        "outputId": "e40b61f5-1ec7-4cb7-f334-cada3371b89f"
      },
      "execution_count": 65,
      "outputs": [
        {
          "output_type": "error",
          "ename": "TypeError",
          "evalue": "ignored",
          "traceback": [
            "\u001b[0;31m---------------------------------------------------------------------------\u001b[0m",
            "\u001b[0;31mTypeError\u001b[0m                                 Traceback (most recent call last)",
            "\u001b[0;32m<ipython-input-65-d680400cf80d>\u001b[0m in \u001b[0;36m<module>\u001b[0;34m\u001b[0m\n\u001b[0;32m----> 1\u001b[0;31m \u001b[0ma\u001b[0m\u001b[0;34m[\u001b[0m\u001b[0;36m1\u001b[0m\u001b[0;34m]\u001b[0m \u001b[0;34m=\u001b[0m \u001b[0;34m'i'\u001b[0m\u001b[0;34m\u001b[0m\u001b[0;34m\u001b[0m\u001b[0m\n\u001b[0m",
            "\u001b[0;31mTypeError\u001b[0m: 'str' object does not support item assignment"
          ]
        }
      ]
    },
    {
      "cell_type": "markdown",
      "source": [
        "#String Functions Advanced"
      ],
      "metadata": {
        "id": "Zq5stNvjjVeA"
      }
    },
    {
      "cell_type": "code",
      "source": [
        "a = '   Hello World   '"
      ],
      "metadata": {
        "id": "5q1Owk05jbou"
      },
      "execution_count": 79,
      "outputs": []
    },
    {
      "cell_type": "code",
      "source": [
        "#remove spaces\n",
        "a.strip()"
      ],
      "metadata": {
        "colab": {
          "base_uri": "https://localhost:8080/",
          "height": 36
        },
        "id": "n0eRV_jjjiv1",
        "outputId": "8ceb6812-721c-43ef-85f7-d23a67db2edd"
      },
      "execution_count": 80,
      "outputs": [
        {
          "output_type": "execute_result",
          "data": {
            "text/plain": [
              "'Hello World'"
            ],
            "application/vnd.google.colaboratory.intrinsic+json": {
              "type": "string"
            }
          },
          "metadata": {},
          "execution_count": 80
        }
      ]
    },
    {
      "cell_type": "code",
      "source": [
        "#remove only leftside spaces \n",
        "a.lstrip()"
      ],
      "metadata": {
        "colab": {
          "base_uri": "https://localhost:8080/",
          "height": 36
        },
        "id": "-Q9NgB2Sj1N9",
        "outputId": "97c3ed6e-ad92-4f56-a667-fb83300430a4"
      },
      "execution_count": 81,
      "outputs": [
        {
          "output_type": "execute_result",
          "data": {
            "text/plain": [
              "'Hello World   '"
            ],
            "application/vnd.google.colaboratory.intrinsic+json": {
              "type": "string"
            }
          },
          "metadata": {},
          "execution_count": 81
        }
      ]
    },
    {
      "cell_type": "code",
      "source": [
        "#remove only rightside spaces \n",
        "a.rstrip()"
      ],
      "metadata": {
        "colab": {
          "base_uri": "https://localhost:8080/",
          "height": 36
        },
        "id": "J2ewvwKVkAXW",
        "outputId": "2ef2b6a9-5fd6-4795-a8a2-1fc59bb9c09e"
      },
      "execution_count": 82,
      "outputs": [
        {
          "output_type": "execute_result",
          "data": {
            "text/plain": [
              "'   Hello World'"
            ],
            "application/vnd.google.colaboratory.intrinsic+json": {
              "type": "string"
            }
          },
          "metadata": {},
          "execution_count": 82
        }
      ]
    },
    {
      "cell_type": "code",
      "source": [
        "a = \"@@@Hello world$$$\"\n",
        "\n",
        "print(a)\n",
        "\n",
        "#Remove unwanted char - leftside\n",
        "print(a.lstrip('@'))"
      ],
      "metadata": {
        "colab": {
          "base_uri": "https://localhost:8080/"
        },
        "id": "FA_1yJBKkFAF",
        "outputId": "befb6eed-7f03-4208-84bc-dfa5d6b9454e"
      },
      "execution_count": 84,
      "outputs": [
        {
          "output_type": "stream",
          "name": "stdout",
          "text": [
            "@@@Hello world$$$\n",
            "Hello world$$$\n"
          ]
        }
      ]
    },
    {
      "cell_type": "code",
      "source": [
        "#Remove unwanted char - rightside\n",
        "print(a.rstrip('$'))"
      ],
      "metadata": {
        "colab": {
          "base_uri": "https://localhost:8080/"
        },
        "id": "nt38maNkli4p",
        "outputId": "58d401ba-6baa-48aa-aba6-a00e32b81109"
      },
      "execution_count": 86,
      "outputs": [
        {
          "output_type": "stream",
          "name": "stdout",
          "text": [
            "@@@Hello world\n"
          ]
        }
      ]
    },
    {
      "cell_type": "code",
      "source": [
        "#Remove unwanted char - bothsides\n",
        "print(a.lstrip('@').rstrip('$'))"
      ],
      "metadata": {
        "colab": {
          "base_uri": "https://localhost:8080/"
        },
        "id": "6HHQe6HilqpN",
        "outputId": "a08cb0fd-e811-4133-83c0-7c73cd129b8b"
      },
      "execution_count": 87,
      "outputs": [
        {
          "output_type": "stream",
          "name": "stdout",
          "text": [
            "Hello world\n"
          ]
        }
      ]
    }
  ]
}