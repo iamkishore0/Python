{
  "nbformat": 4,
  "nbformat_minor": 0,
  "metadata": {
    "colab": {
      "provenance": [],
      "authorship_tag": "ABX9TyM/GNycW8YCKtGNM/qXwz+A",
      "include_colab_link": true
    },
    "kernelspec": {
      "name": "python3",
      "display_name": "Python 3"
    },
    "language_info": {
      "name": "python"
    }
  },
  "cells": [
    {
      "cell_type": "markdown",
      "metadata": {
        "id": "view-in-github",
        "colab_type": "text"
      },
      "source": [
        "<a href=\"https://colab.research.google.com/github/iamkishore0/Python/blob/main/part6.ipynb\" target=\"_parent\"><img src=\"https://colab.research.google.com/assets/colab-badge.svg\" alt=\"Open In Colab\"/></a>"
      ]
    },
    {
      "cell_type": "markdown",
      "source": [
        "#Sets\n",
        "Sets are defined with { }\n",
        "\n",
        "Sets are unordered - they don't have index values\n",
        "\n",
        "Sets avoid duplicate values\n",
        "\n",
        "Slicing operations don't work for sets because they don't have index"
      ],
      "metadata": {
        "id": "rXZQ2WBQLa42"
      }
    },
    {
      "cell_type": "code",
      "source": [
        "# Sets are defined with curly {}\n",
        "\n",
        "a = {2, 5.6, True, 'World', 2, 5.6, True, 'World'}\n",
        "type(a)\n",
        "\n",
        "print(a) #Duplicate values got avoided and order is not maintained because sets dont't have index number\n"
      ],
      "metadata": {
        "colab": {
          "base_uri": "https://localhost:8080/"
        },
        "id": "unaOhBdyLyXt",
        "outputId": "c35b9d1c-93ba-45b2-cfa7-98e95ef4cfc6"
      },
      "execution_count": 4,
      "outputs": [
        {
          "output_type": "stream",
          "name": "stdout",
          "text": [
            "{True, 2, 'World', 5.6}\n"
          ]
        }
      ]
    },
    {
      "cell_type": "code",
      "source": [
        "#Pop function\n",
        "#When we execute pop, it don't remove end item, It can remove any item in set\n",
        "print(a)\n",
        "a.pop()\n",
        "print(a)"
      ],
      "metadata": {
        "colab": {
          "base_uri": "https://localhost:8080/"
        },
        "id": "-LN1lfUeMpvO",
        "outputId": "56883f36-88d8-43be-df45-8a6997835ea0"
      },
      "execution_count": 5,
      "outputs": [
        {
          "output_type": "stream",
          "name": "stdout",
          "text": [
            "{True, 2, 'World', 5.6}\n",
            "{2, 'World', 5.6}\n"
          ]
        }
      ]
    },
    {
      "cell_type": "code",
      "source": [
        "#Add an Item and Remove a specified element\n",
        "print(a)\n",
        "a.add(999)   #add an item\n",
        "print(a)\n",
        "a.discard(2) #removes a speciied element\n",
        "print(a)"
      ],
      "metadata": {
        "colab": {
          "base_uri": "https://localhost:8080/"
        },
        "id": "dzlTY72KNZJ1",
        "outputId": "60121c2e-0425-4eec-918f-1cfeaea0b6b5"
      },
      "execution_count": 6,
      "outputs": [
        {
          "output_type": "stream",
          "name": "stdout",
          "text": [
            "{2, 'World', 5.6}\n",
            "{2, 5.6, 999, 'World'}\n",
            "{5.6, 999, 'World'}\n"
          ]
        }
      ]
    }
  ]
}