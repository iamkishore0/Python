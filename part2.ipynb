{
  "nbformat": 4,
  "nbformat_minor": 0,
  "metadata": {
    "colab": {
      "provenance": [],
      "authorship_tag": "ABX9TyOQzJ5dZde5QajzrOG0SytB",
      "include_colab_link": true
    },
    "kernelspec": {
      "name": "python3",
      "display_name": "Python 3"
    },
    "language_info": {
      "name": "python"
    }
  },
  "cells": [
    {
      "cell_type": "markdown",
      "metadata": {
        "id": "view-in-github",
        "colab_type": "text"
      },
      "source": [
        "<a href=\"https://colab.research.google.com/github/iamkishore0/Python/blob/main/part2.ipynb\" target=\"_parent\"><img src=\"https://colab.research.google.com/assets/colab-badge.svg\" alt=\"Open In Colab\"/></a>"
      ]
    },
    {
      "cell_type": "markdown",
      "source": [
        "#Conditional Operators\n",
        "\n",
        "**== Equal to**\n",
        "\n",
        "**!= Not equal to**\n",
        "\n",
        "**>  Greater than**\n",
        "\n",
        "**< Lesser than**\n",
        "\n",
        "**>= Greater than or equal to**\n",
        "\n",
        "**<= Lesser than or equal to**"
      ],
      "metadata": {
        "id": "zTk7GR4zKxwT"
      }
    },
    {
      "cell_type": "code",
      "source": [
        "print(1 == 1)\n",
        "print(1 != 1)\n",
        "print(2 > 3)\n",
        "print(2 < 3)\n",
        "print(2 >= 3)\n",
        "print(2 <= 3)"
      ],
      "metadata": {
        "colab": {
          "base_uri": "https://localhost:8080/"
        },
        "id": "7PdwOnVXKzpj",
        "outputId": "3c635adc-1eea-4736-93ca-f0fd3ed7e4ce"
      },
      "execution_count": null,
      "outputs": [
        {
          "output_type": "stream",
          "name": "stdout",
          "text": [
            "True\n",
            "False\n",
            "False\n",
            "True\n",
            "False\n",
            "True\n"
          ]
        }
      ]
    },
    {
      "cell_type": "markdown",
      "source": [
        "#Logical Operators OR - Greater than zero is true - Addition"
      ],
      "metadata": {
        "id": "mLd03ESZNhR7"
      }
    },
    {
      "cell_type": "code",
      "source": [
        "print(True or True)\n",
        "print(True or False)\n",
        "print(False or True)\n",
        "print(False or False)"
      ],
      "metadata": {
        "colab": {
          "base_uri": "https://localhost:8080/"
        },
        "id": "CDPcNlYWNjML",
        "outputId": "edba77f2-4458-45c6-a0fe-fdd9ca13d856"
      },
      "execution_count": null,
      "outputs": [
        {
          "output_type": "stream",
          "name": "stdout",
          "text": [
            "True\n",
            "True\n",
            "True\n",
            "False\n"
          ]
        }
      ]
    },
    {
      "cell_type": "markdown",
      "source": [
        "#Logical Operators AND - Greater than zero is true - Multiplication"
      ],
      "metadata": {
        "id": "wmhTRkrpN0kS"
      }
    },
    {
      "cell_type": "code",
      "source": [
        "print(True and True)\n",
        "print(True and False)\n",
        "print(False and True)\n",
        "print(False and False)"
      ],
      "metadata": {
        "colab": {
          "base_uri": "https://localhost:8080/"
        },
        "id": "7cfPzwTvN1nS",
        "outputId": "77b3273e-cbab-4a96-c372-a53ac4e0a97e"
      },
      "execution_count": null,
      "outputs": [
        {
          "output_type": "stream",
          "name": "stdout",
          "text": [
            "True\n",
            "False\n",
            "False\n",
            "False\n"
          ]
        }
      ]
    },
    {
      "cell_type": "markdown",
      "source": [
        "#Conditional Statements"
      ],
      "metadata": {
        "id": "OawHCF2lOABU"
      }
    },
    {
      "cell_type": "code",
      "source": [
        "#IF\n",
        "\n",
        "a = 6\n",
        "b = 5\n",
        "\n",
        "if a > b:\n",
        "  print('yes, a is greater than b')"
      ],
      "metadata": {
        "colab": {
          "base_uri": "https://localhost:8080/"
        },
        "id": "LSk9oU7lOxn9",
        "outputId": "f7ed0d75-d63e-4a04-caeb-a97b0f8be06b"
      },
      "execution_count": null,
      "outputs": [
        {
          "output_type": "stream",
          "name": "stdout",
          "text": [
            "yes, a is greater than b\n"
          ]
        }
      ]
    },
    {
      "cell_type": "code",
      "source": [
        "#ELIF\n",
        "if a == b:\n",
        "  print('yes, a is equal to b')\n",
        "elif a > b:\n",
        "  print('yes, a is greater than b')"
      ],
      "metadata": {
        "colab": {
          "base_uri": "https://localhost:8080/"
        },
        "id": "0zDGlltlPBAC",
        "outputId": "07741f23-86a5-4676-9e3f-bcbdbeaa85df"
      },
      "execution_count": null,
      "outputs": [
        {
          "output_type": "stream",
          "name": "stdout",
          "text": [
            "yes, a is greater than b\n"
          ]
        }
      ]
    },
    {
      "cell_type": "code",
      "source": [
        "#ELSE\n",
        "if a == b:\n",
        "  print('yes, a is equal to b')\n",
        "elif a < b:\n",
        "  print('yes, a is lesser than b')\n",
        "else:\n",
        "  print('No matching found')"
      ],
      "metadata": {
        "colab": {
          "base_uri": "https://localhost:8080/"
        },
        "id": "TT2AhS9qPV_C",
        "outputId": "238d4e24-656b-4689-b616-e8f904d5feb8"
      },
      "execution_count": null,
      "outputs": [
        {
          "output_type": "stream",
          "name": "stdout",
          "text": [
            "No matching found\n"
          ]
        }
      ]
    },
    {
      "cell_type": "markdown",
      "source": [
        "Create a shopping cart that gives discount coupon based on purchase\n",
        "for purchase below $250 - no discount coupon\n",
        "\n",
        "for purchase between $$250 - $500 Flat $20 coupon\n",
        "\n",
        "for purchase between $$500 - $750 Flat $50 coupon\n",
        "\n",
        "for purchase between $$750 - $1000 Flat $100 coupon"
      ],
      "metadata": {
        "id": "wk2PKInBej3x"
      }
    },
    {
      "cell_type": "code",
      "source": [
        "cart_total = 320\n",
        "\n",
        "if cart_total < 250:\n",
        "  print('Make sure your cart value is more than $250 to claim a coupon')\n",
        "elif cart_total >= 250 and cart_total <= 500:\n",
        "  print('You are eligible for $20 coupon')\n",
        "elif cart_total >= 500 and cart_total <= 750:\n",
        "  print('you are eligible for $50 coupon')\n",
        "elif cart_total >= 750 and cart_total <= 1000:\n",
        "  print('you are eligible for $100 coupon')"
      ],
      "metadata": {
        "colab": {
          "base_uri": "https://localhost:8080/"
        },
        "id": "ePuaz6JMf_yk",
        "outputId": "15fcb0d8-d22c-460b-f6b1-12957e810a8b"
      },
      "execution_count": 12,
      "outputs": [
        {
          "output_type": "stream",
          "name": "stdout",
          "text": [
            "You are eligible for $20 coupon\n"
          ]
        }
      ]
    },
    {
      "cell_type": "markdown",
      "source": [
        "Shopping cart that recommends how much value to add to claim coupon"
      ],
      "metadata": {
        "id": "liSOIYZfiIHO"
      }
    },
    {
      "cell_type": "code",
      "source": [
        "cart_total = 751\n",
        "\n",
        "if cart_total < 250:\n",
        "  print('please add ' + '$' + str(250-cart_total) + ' more to claim $20 coupon ')\n",
        "elif cart_total >= 250 and cart_total <= 500:\n",
        "  print('You are eligible for $20 coupon' + ' you can add ' + '$' + str(750 - cart_total) + ' more to claim $50 coupon')\n",
        "elif cart_total >= 500 and cart_total <= 750:\n",
        "  print('You are eligible for $50 coupon' + ' you can add ' + '$' + str(999 - cart_total) + ' more to claim $100 coupon')\n",
        "elif cart_total >= 750 and cart_total <= 999:\n",
        "  print('you are eligible for $100 coupon' + ' you can add ' + '$' + str(1000 - cart_total) + ' more to claim free premium membership' )\n",
        "elif cart_total > 999:\n",
        "  print('you are eligible for free premium membership')"
      ],
      "metadata": {
        "colab": {
          "base_uri": "https://localhost:8080/"
        },
        "id": "H3X7aDMOik_G",
        "outputId": "cf6deb3e-c422-4836-ddad-17cd3ae7649b"
      },
      "execution_count": 40,
      "outputs": [
        {
          "output_type": "stream",
          "name": "stdout",
          "text": [
            "you are eligible for $100 coupon you can add $249 more to claim free premium membership\n"
          ]
        }
      ]
    },
    {
      "cell_type": "code",
      "source": [],
      "metadata": {
        "id": "nYmSTo2BmN--"
      },
      "execution_count": null,
      "outputs": []
    }
  ]
}